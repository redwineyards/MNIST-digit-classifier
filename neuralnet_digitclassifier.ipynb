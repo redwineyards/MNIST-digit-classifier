{
  "nbformat": 4,
  "nbformat_minor": 0,
  "metadata": {
    "colab": {
      "name": "neuralnet_digitclassifier.ipynb",
      "provenance": [],
      "collapsed_sections": [],
      "authorship_tag": "ABX9TyPLyQ4hNzMOdZ5EI/HJtcaN",
      "include_colab_link": true
    },
    "kernelspec": {
      "name": "python3",
      "display_name": "Python 3"
    },
    "language_info": {
      "name": "python"
    },
    "accelerator": "GPU"
  },
  "cells": [
    {
      "cell_type": "markdown",
      "metadata": {
        "id": "view-in-github",
        "colab_type": "text"
      },
      "source": [
        "<a href=\"https://colab.research.google.com/github/redwineyards/MNIST-digit-classifier/blob/main/neuralnet_digitclassifier.ipynb\" target=\"_parent\"><img src=\"https://colab.research.google.com/assets/colab-badge.svg\" alt=\"Open In Colab\"/></a>"
      ]
    },
    {
      "cell_type": "code",
      "metadata": {
        "id": "Wx0H6HdiQWfF"
      },
      "source": [
        "import numpy as np\n",
        "import torch\n",
        "import torchvision\n",
        "import torchvision.transforms as transforms\n",
        "import matplotlib.pyplot as plt"
      ],
      "execution_count": 1,
      "outputs": []
    },
    {
      "cell_type": "code",
      "metadata": {
        "colab": {
          "base_uri": "https://localhost:8080/"
        },
        "id": "TLi-r_Jv7wFc",
        "outputId": "237427b0-4c1a-4722-b169-3d8193ce5c66"
      },
      "source": [
        "device=torch.device('cuda' if torch.cuda.is_available() else 'cpu')\n",
        "print(torch.cuda.is_available())\n",
        "torch.manual_seed(2000)\n",
        "if device.type=='cuda':\n",
        "  torch.cuda.manual_seed_all(2000)"
      ],
      "execution_count": 2,
      "outputs": [
        {
          "output_type": "stream",
          "text": [
            "True\n"
          ],
          "name": "stdout"
        }
      ]
    },
    {
      "cell_type": "code",
      "metadata": {
        "id": "l0bDC59E0J4P"
      },
      "source": [
        "root=\"/content/data\"\n",
        "trans=transforms.Compose([transforms.ToTensor(),transforms.Normalize((0.1307,), (0.3081,))])\n",
        "training_set=torchvision.datasets.MNIST(root=root,train=True,transform=trans,download=True)\n",
        "test_set=torchvision.datasets.MNIST(root=root, train=False,transform=trans, download=True)"
      ],
      "execution_count": 3,
      "outputs": []
    },
    {
      "cell_type": "code",
      "metadata": {
        "id": "iFhAH1NS1Z5_"
      },
      "source": [
        "num_epochs=10\n",
        "num_classes=10\n",
        "learning_rate=0.001\n",
        "batch_size=128\n",
        "train_loader=torch.utils.data.DataLoader(training_set,batch_size=batch_size,shuffle=True)\n",
        "test_loader=torch.utils.data.DataLoader(test_set,batch_size=batch_size,shuffle=False)"
      ],
      "execution_count": 4,
      "outputs": []
    },
    {
      "cell_type": "code",
      "metadata": {
        "id": "FannViM5kIo2"
      },
      "source": [
        "import torch.nn.functional as F"
      ],
      "execution_count": 5,
      "outputs": []
    },
    {
      "cell_type": "code",
      "metadata": {
        "id": "prqUg9I2VuuH"
      },
      "source": [
        "class NeuralNet(torch.nn.Module):\n",
        "  def __init__(self):\n",
        "    super(NeuralNet,self).__init__()\n",
        "    self.fc1=torch.nn.Linear(784,150)\n",
        "    self.fc2=torch.nn.Linear(150,100)\n",
        "    self.fc3=torch.nn.Linear(100,10)\n",
        "    self.softmax=torch.nn.Softmax(dim=1)  \n",
        "  def forward(self,x):\n",
        "    x=x.reshape(-1,784)\n",
        "    x=F.relu(self.fc1(x))\n",
        "    x=F.relu(self.fc2(x))\n",
        "    x=F.relu(self.fc3(x))\n",
        "    x=self.softmax(x)\n",
        "    return x"
      ],
      "execution_count": 6,
      "outputs": []
    },
    {
      "cell_type": "code",
      "metadata": {
        "id": "8PBbWim9iEn_"
      },
      "source": [
        "def train(model,train_loader,num_epochs,learning_rate):\n",
        "  losses=[]\n",
        "  accuracies=[]\n",
        "  total_steps=len(train_loader)\n",
        "  optimizer=torch.optim.Adam(model.parameters(), lr=learning_rate)\n",
        "  lossfn=torch.nn.CrossEntropyLoss()\n",
        "  model.train()\n",
        "  for epoch in range(num_epochs):\n",
        "    for i,(images,labels) in enumerate(train_loader):\n",
        "      images=images.to(device)\n",
        "      labels=labels.to(device)\n",
        "      output=model.forward(images)\n",
        "      loss=lossfn(output,labels)\n",
        "      losses.append(loss)\n",
        "\n",
        "      optimizer.zero_grad()\n",
        "      loss.backward()\n",
        "      optimizer.step()\n",
        "\n",
        "      _,pred=torch.max(output.data,1)\n",
        "      correct=(pred==labels).sum().item()\n",
        "      acc=correct/labels.size(0)\n",
        "      accuracies.append(acc)\n",
        "\n",
        "      if (i + 1) % 100 == 0:\n",
        "        print('Epoch [{}/{}], Loss: {:.4f}, Accuracy: {:.2f}%'.format(epoch + 1, num_epochs,loss.item(),acc* 100))\n",
        "  return losses,accuracies "
      ],
      "execution_count": 7,
      "outputs": []
    },
    {
      "cell_type": "code",
      "metadata": {
        "id": "dkhi5LtP1OwK"
      },
      "source": [
        "def evaluate(model,test_loader):\n",
        "  model.eval()\n",
        "  with torch.no_grad():\n",
        "    total=0\n",
        "    correct=0\n",
        "    for i,(images,labels) in enumerate(test_loader):\n",
        "      images=images.to(device)\n",
        "      labels=labels.to(device)\n",
        "      output=model(images)\n",
        "      _,pred=torch.max(output.data,1)\n",
        "      correct+=(pred==labels).sum().item()\n",
        "      total+=labels.size(0)\n",
        "    acc=correct/total\n",
        "    print(\"model accuracy on MNIST test set:\", acc*100)"
      ],
      "execution_count": 8,
      "outputs": []
    },
    {
      "cell_type": "code",
      "metadata": {
        "id": "fm7M_YdB4D7r",
        "outputId": "1d2f57c3-8f40-48e7-e8ba-491b299ba0aa",
        "colab": {
          "base_uri": "https://localhost:8080/"
        }
      },
      "source": [
        "model=NeuralNet().to(device)\n",
        "losses,accs=train(model,train_loader,num_epochs,learning_rate)"
      ],
      "execution_count": 9,
      "outputs": [
        {
          "output_type": "stream",
          "text": [
            "Epoch [1/10], Loss: 1.6943, Accuracy: 78.12%\n",
            "Epoch [1/10], Loss: 1.6194, Accuracy: 85.16%\n",
            "Epoch [1/10], Loss: 1.6458, Accuracy: 81.25%\n",
            "Epoch [1/10], Loss: 1.6386, Accuracy: 82.81%\n",
            "Epoch [2/10], Loss: 1.5578, Accuracy: 89.84%\n",
            "Epoch [2/10], Loss: 1.6187, Accuracy: 84.38%\n",
            "Epoch [2/10], Loss: 1.6364, Accuracy: 82.03%\n",
            "Epoch [2/10], Loss: 1.6296, Accuracy: 82.81%\n",
            "Epoch [3/10], Loss: 1.6204, Accuracy: 92.97%\n",
            "Epoch [3/10], Loss: 1.5921, Accuracy: 94.53%\n",
            "Epoch [3/10], Loss: 1.5760, Accuracy: 93.75%\n",
            "Epoch [3/10], Loss: 1.6154, Accuracy: 93.75%\n",
            "Epoch [4/10], Loss: 1.5984, Accuracy: 90.62%\n",
            "Epoch [4/10], Loss: 1.5919, Accuracy: 94.53%\n",
            "Epoch [4/10], Loss: 1.6154, Accuracy: 96.09%\n",
            "Epoch [4/10], Loss: 1.5421, Accuracy: 96.88%\n",
            "Epoch [5/10], Loss: 1.5610, Accuracy: 95.31%\n",
            "Epoch [5/10], Loss: 1.5361, Accuracy: 97.66%\n",
            "Epoch [5/10], Loss: 1.5415, Accuracy: 99.22%\n",
            "Epoch [5/10], Loss: 1.5559, Accuracy: 96.09%\n",
            "Epoch [6/10], Loss: 1.5415, Accuracy: 99.22%\n",
            "Epoch [6/10], Loss: 1.6248, Accuracy: 94.53%\n",
            "Epoch [6/10], Loss: 1.6107, Accuracy: 92.97%\n",
            "Epoch [6/10], Loss: 1.5918, Accuracy: 94.53%\n",
            "Epoch [7/10], Loss: 1.5827, Accuracy: 97.66%\n",
            "Epoch [7/10], Loss: 1.5781, Accuracy: 96.09%\n",
            "Epoch [7/10], Loss: 1.6046, Accuracy: 96.09%\n",
            "Epoch [7/10], Loss: 1.5825, Accuracy: 95.31%\n",
            "Epoch [8/10], Loss: 1.5361, Accuracy: 97.66%\n",
            "Epoch [8/10], Loss: 1.5162, Accuracy: 97.66%\n",
            "Epoch [8/10], Loss: 1.6043, Accuracy: 96.09%\n",
            "Epoch [8/10], Loss: 1.5517, Accuracy: 99.22%\n",
            "Epoch [9/10], Loss: 1.5082, Accuracy: 100.00%\n",
            "Epoch [9/10], Loss: 1.5505, Accuracy: 100.00%\n",
            "Epoch [9/10], Loss: 1.5511, Accuracy: 97.66%\n",
            "Epoch [9/10], Loss: 1.5895, Accuracy: 96.88%\n",
            "Epoch [10/10], Loss: 1.5242, Accuracy: 99.22%\n",
            "Epoch [10/10], Loss: 1.5910, Accuracy: 96.88%\n",
            "Epoch [10/10], Loss: 1.5976, Accuracy: 98.44%\n",
            "Epoch [10/10], Loss: 1.5657, Accuracy: 97.66%\n"
          ],
          "name": "stdout"
        }
      ]
    },
    {
      "cell_type": "code",
      "metadata": {
        "id": "Qbju380d42Ac",
        "outputId": "8ad38666-555e-40e0-f48c-32135b055daa",
        "colab": {
          "base_uri": "https://localhost:8080/"
        }
      },
      "source": [
        "evaluate(model,test_loader)"
      ],
      "execution_count": 10,
      "outputs": [
        {
          "output_type": "stream",
          "text": [
            "model accuracy on MNIST test set: 96.96000000000001\n"
          ],
          "name": "stdout"
        }
      ]
    },
    {
      "cell_type": "code",
      "metadata": {
        "id": "EuMKIjChvEiW",
        "outputId": "6b6b3676-de54-4d13-a3a4-be31fa714b14",
        "colab": {
          "base_uri": "https://localhost:8080/",
          "height": 282
        }
      },
      "source": [
        "plt.plot(losses)\n",
        "\n",
        "plt.plot(accs)"
      ],
      "execution_count": 11,
      "outputs": [
        {
          "output_type": "execute_result",
          "data": {
            "text/plain": [
              "[<matplotlib.lines.Line2D at 0x7f17f479c850>]"
            ]
          },
          "metadata": {
            "tags": []
          },
          "execution_count": 11
        },
        {
          "output_type": "display_data",
          "data": {
            "image/png": "[encoded data removed]",
            "text/plain": [
              "<Figure size 432x288 with 1 Axes>"
            ]
          },
          "metadata": {
            "tags": [],
            "needs_background": "light"
          }
        }
      ]
    },
    {
      "cell_type": "code",
      "metadata": {
        "id": "r6EWrApp4gxa"
      },
      "source": [
        ""
      ],
      "execution_count": 11,
      "outputs": []
    }
  ]
}