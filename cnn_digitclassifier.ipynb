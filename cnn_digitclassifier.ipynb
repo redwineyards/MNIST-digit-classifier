{
  "nbformat": 4,
  "nbformat_minor": 0,
  "metadata": {
    "colab": {
      "name": "cnn_digitclassifier.ipynb",
      "provenance": [],
      "collapsed_sections": [],
      "authorship_tag": "ABX9TyNQqmEcIhdv39NltN7W6g1L",
      "include_colab_link": true
    },
    "kernelspec": {
      "name": "python3",
      "display_name": "Python 3"
    },
    "language_info": {
      "name": "python"
    },
    "accelerator": "GPU"
  },
  "cells": [
    {
      "cell_type": "markdown",
      "metadata": {
        "id": "view-in-github",
        "colab_type": "text"
      },
      "source": [
        "<a href=\"https://colab.research.google.com/github/redwineyards/MNIST-digit-classifier/blob/main/cnn_digitclassifier.ipynb\" target=\"_parent\"><img src=\"https://colab.research.google.com/assets/colab-badge.svg\" alt=\"Open In Colab\"/></a>"
      ]
    },
    {
      "cell_type": "code",
      "metadata": {
        "id": "rSzdjXfa6cs-"
      },
      "source": [
        "import numpy as np\n",
        "import torch \n",
        "import torch.nn as nn\n",
        "import torch.nn.functional as F\n",
        "import torchvision\n",
        "import torchvision.transforms as transforms\n",
        "import matplotlib.pyplot as plt"
      ],
      "execution_count": 1,
      "outputs": []
    },
    {
      "cell_type": "code",
      "metadata": {
        "colab": {
          "base_uri": "https://localhost:8080/"
        },
        "id": "OZU4kKVqAOly",
        "outputId": "d46faa05-2fd3-42e4-855d-19f0f1c8730a"
      },
      "source": [
        "device=torch.device('cuda' if torch.cuda.is_available() else 'cpu')\n",
        "print(torch.cuda.is_available())\n",
        "torch.manual_seed(2000)\n",
        "if device.type=='cuda':\n",
        "  torch.cuda.manual_seed_all(2000)"
      ],
      "execution_count": 10,
      "outputs": [
        {
          "output_type": "stream",
          "text": [
            "True\n"
          ],
          "name": "stdout"
        }
      ]
    },
    {
      "cell_type": "code",
      "metadata": {
        "id": "bt0fYTVuAQQz"
      },
      "source": [
        "root='/content/data'\n",
        "trans=transforms.Compose([transforms.ToTensor(),transforms.Normalize((0.1307,), (0.3081,))])\n",
        "training_set=torchvision.datasets.MNIST(root=root,train=True,transform=trans,download=True)\n",
        "testing_set=torchvision.datasets.MNIST(root=root,train=False,transform=trans,download=True)"
      ],
      "execution_count": 3,
      "outputs": []
    },
    {
      "cell_type": "code",
      "metadata": {
        "id": "OsOcrSsrCCyg"
      },
      "source": [
        "num_epochs=5\n",
        "batch_size=128\n",
        "learning_rate=0.0001\n",
        "train_loader=torch.utils.data.DataLoader(training_set,batch_size=batch_size,shuffle=True)\n",
        "test_loader=torch.utils.data.DataLoader(testing_set,batch_size=batch_size,shuffle=True)"
      ],
      "execution_count": 16,
      "outputs": []
    },
    {
      "cell_type": "code",
      "metadata": {
        "id": "bITAoNMDF5o6"
      },
      "source": [
        "class ConvNet(nn.Module):\n",
        "  def __init__(self):\n",
        "    super(ConvNet,self).__init__()\n",
        "    self.l1=nn.Sequential(nn.Conv2d(1,32,kernel_size=7),nn.ReLU(),nn.MaxPool2d(kernel_size=2,stride=2))\n",
        "    self.l2=nn.Sequential(nn.Conv2d(32,64,kernel_size=5,stride=2,padding=3),nn.ReLU(),nn.MaxPool2d(kernel_size=2))\n",
        "    self.l3=nn.Sequential(nn.Conv2d(64,128,kernel_size=3,stride=2,padding=2),nn.ReLU(),nn.MaxPool2d(kernel_size=2))\n",
        "    self.dropout=nn.Dropout()\n",
        "    self.fc1=nn.Linear(128,512)\n",
        "    self.fc2=nn.Linear(512,10)\n",
        "    self.softmax=nn.Softmax(dim=1)\n",
        "  \n",
        "  def forward(self,x):\n",
        "    out=self.l1(x)\n",
        "    out=self.l2(out)\n",
        "    out=self.l3(out)\n",
        "    out=out.reshape(out.size(0), -1)\n",
        "    out=self.dropout(out)\n",
        "    out=self.fc1(out)\n",
        "    out=self.fc2(out)\n",
        "    out=self.softmax(out)\n",
        "    return out"
      ],
      "execution_count": 17,
      "outputs": []
    },
    {
      "cell_type": "code",
      "metadata": {
        "id": "LKUqX82vqsS5"
      },
      "source": [
        "def train(model,train_loader,num_epochs,learning_rate):\n",
        "  losses=[]\n",
        "  accs=[]\n",
        "  optimizer=torch.optim.Adam(model.parameters(),lr=learning_rate)\n",
        "  lossfn=nn.CrossEntropyLoss()\n",
        "  model.train()\n",
        "  for epoch in range(num_epochs):\n",
        "    for i,(images,labels) in enumerate(train_loader):\n",
        "      images=images.to(device)\n",
        "      labels=labels.to(device)\n",
        "      outputs=model(images)\n",
        "      loss=lossfn(outputs,labels)\n",
        "      losses.append(loss)\n",
        "\n",
        "      optimizer.zero_grad()\n",
        "      loss.backward()\n",
        "      optimizer.step()\n",
        "\n",
        "      _,pred=torch.max(outputs.data,1)\n",
        "      correct=(pred==labels).sum().item()\n",
        "      acc=correct/labels.size(0)\n",
        "      accs.append(acc)\n",
        "      \n",
        "      if (i + 1) % 100 == 0:\n",
        "        print('Epoch [{}/{}], Loss: {:.4f}, Accuracy: {:.2f}%'.format(epoch + 1, num_epochs,loss.item(),acc* 100))\n",
        "  return losses,accs"
      ],
      "execution_count": 18,
      "outputs": []
    },
    {
      "cell_type": "code",
      "metadata": {
        "id": "U9Mzxy5KWlK0"
      },
      "source": [
        "def evaluate(model,test_loader):\n",
        "  model.eval()\n",
        "  with torch.no_grad():\n",
        "    total=0\n",
        "    correct=0\n",
        "    for i,(images,labels) in enumerate(test_loader):\n",
        "      images=images.to(device)\n",
        "      labels=labels.to(device)\n",
        "      output=model(images)\n",
        "      _,pred=torch.max(output.data,1)\n",
        "      correct+=(pred==labels).sum().item()\n",
        "      total+=labels.size(0)\n",
        "    acc=correct/total\n",
        "    print(\"model accuracy on MNIST test set:\", acc*100)"
      ],
      "execution_count": 19,
      "outputs": []
    },
    {
      "cell_type": "code",
      "metadata": {
        "id": "RHhLi_GiXHJd",
        "colab": {
          "base_uri": "https://localhost:8080/"
        },
        "outputId": "df6777f0-1bb5-4b34-e239-88d9188aaf41"
      },
      "source": [
        "model=ConvNet().to(device)\n",
        "losses,accs=train(model,train_loader,num_epochs,learning_rate)"
      ],
      "execution_count": 20,
      "outputs": [
        {
          "output_type": "stream",
          "text": [
            "Epoch [1/5], Loss: 1.9282, Accuracy: 60.16%\n",
            "Epoch [1/5], Loss: 1.7573, Accuracy: 75.78%\n",
            "Epoch [1/5], Loss: 1.6899, Accuracy: 78.91%\n",
            "Epoch [1/5], Loss: 1.6796, Accuracy: 78.91%\n",
            "Epoch [2/5], Loss: 1.5671, Accuracy: 90.62%\n",
            "Epoch [2/5], Loss: 1.5636, Accuracy: 89.84%\n",
            "Epoch [2/5], Loss: 1.5872, Accuracy: 88.28%\n",
            "Epoch [2/5], Loss: 1.5192, Accuracy: 95.31%\n",
            "Epoch [3/5], Loss: 1.5404, Accuracy: 92.19%\n",
            "Epoch [3/5], Loss: 1.5189, Accuracy: 95.31%\n",
            "Epoch [3/5], Loss: 1.5180, Accuracy: 94.53%\n",
            "Epoch [3/5], Loss: 1.5181, Accuracy: 96.88%\n",
            "Epoch [4/5], Loss: 1.5224, Accuracy: 95.31%\n",
            "Epoch [4/5], Loss: 1.5293, Accuracy: 92.19%\n",
            "Epoch [4/5], Loss: 1.4865, Accuracy: 98.44%\n",
            "Epoch [4/5], Loss: 1.4870, Accuracy: 97.66%\n",
            "Epoch [5/5], Loss: 1.5081, Accuracy: 95.31%\n",
            "Epoch [5/5], Loss: 1.5045, Accuracy: 96.09%\n",
            "Epoch [5/5], Loss: 1.5053, Accuracy: 95.31%\n",
            "Epoch [5/5], Loss: 1.4913, Accuracy: 97.66%\n"
          ],
          "name": "stdout"
        }
      ]
    },
    {
      "cell_type": "code",
      "metadata": {
        "id": "PKDXKp8sXOj2",
        "colab": {
          "base_uri": "https://localhost:8080/"
        },
        "outputId": "7189600e-e2de-43a1-933e-91b7748c0fc1"
      },
      "source": [
        "evaluate(model,test_loader)"
      ],
      "execution_count": 21,
      "outputs": [
        {
          "output_type": "stream",
          "text": [
            "model accuracy on MNIST test set: 97.74000000000001\n"
          ],
          "name": "stdout"
        }
      ]
    },
    {
      "cell_type": "code",
      "metadata": {
        "colab": {
          "base_uri": "https://localhost:8080/",
          "height": 282
        },
        "id": "fRlD6mdtjBI1",
        "outputId": "969d5db9-f1f5-4147-f512-2f35c5c90ff8"
      },
      "source": [
        "plt.plot(losses)\n",
        "plt.plot(accs)"
      ],
      "execution_count": 22,
      "outputs": [
        {
          "output_type": "execute_result",
          "data": {
            "text/plain": [
              "[<matplotlib.lines.Line2D at 0x7fb408d6ad50>]"
            ]
          },
          "metadata": {
            "tags": []
          },
          "execution_count": 22
        },
        {
          "output_type": "display_data",
          "data": {
            "image/png": "[encoded data removed]",
            "text/plain": [
              "<Figure size 432x288 with 1 Axes>"
            ]
          },
          "metadata": {
            "tags": [],
            "needs_background": "light"
          }
        }
      ]
    },
    {
      "cell_type": "code",
      "metadata": {
        "id": "Bq_jmVNyj02e"
      },
      "source": [
        ""
      ],
      "execution_count": null,
      "outputs": []
    }
  ]
}